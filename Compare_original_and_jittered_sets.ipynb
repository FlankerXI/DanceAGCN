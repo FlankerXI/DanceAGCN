{
 "cells": [
  {
   "cell_type": "code",
   "execution_count": 1,
   "id": "ce3c58b2",
   "metadata": {},
   "outputs": [],
   "source": [
    "import os\n",
    "import json\n",
    "import pickle\n",
    "import numpy as np\n",
    "from tqdm.auto import tqdm"
   ]
  },
  {
   "cell_type": "code",
   "execution_count": 2,
   "id": "9e007f20",
   "metadata": {},
   "outputs": [],
   "source": [
    "def load_dance(path, source):\n",
    "    if source == 'dancerevolution':\n",
    "        with open(path) as f:\n",
    "            raw_dict = json.loads(f.read())\n",
    "            dance = raw_dict['dance_array'] # dance is a list with shape 1800(frames)*274(keypoints)\n",
    "        return np.array(dance)\n",
    "    \n",
    "    elif source == 'aist++':\n",
    "        with open(path, 'rb') as f:\n",
    "            dance = pickle.load(f)\n",
    "        return dance\n",
    "\n",
    "def rescale(x, src):\n",
    "    w, h = (1280, 720) if src == 'dancerevolution' else (1920, 1080)\n",
    "    x[0] = (x[0] + 1) * 0.5 * w\n",
    "    x[1] = (x[1] + 1) * 0.5 * h\n",
    "    return x\n",
    "\n",
    "def get_distance(x1, x2, src):\n",
    "    \n",
    "    x1 = rescale(x1, src)\n",
    "    x2 = rescale(x2, src)\n",
    "    \n",
    "    distance = (x1[0] - x2[0])**2 + (x1[1] - x2[1])**2\n",
    "    distance = distance**0.5\n",
    "    \n",
    "    return distance\n",
    "\n",
    "def get_mae(x1, x2, src):\n",
    "    x1 = rescale(x1, src)\n",
    "    x2 = rescale(x2, src)\n",
    "    return abs((x2-x1)).sum()/2.0"
   ]
  },
  {
   "cell_type": "markdown",
   "id": "e26f1827",
   "metadata": {},
   "source": [
    "### Calculate max/min/avg pixels shift for original and jittered sequences for Dance Revolution dataset"
   ]
  },
  {
   "cell_type": "code",
   "execution_count": 88,
   "id": "597e0e5c",
   "metadata": {},
   "outputs": [
    {
     "data": {
      "application/vnd.jupyter.widget-view+json": {
       "model_id": "9e1b953f53474689bfe27b58707e964f",
       "version_major": 2,
       "version_minor": 0
      },
      "text/plain": [
       "  0%|          | 0/1504 [00:00<?, ?it/s]"
      ]
     },
     "metadata": {},
     "output_type": "display_data"
    },
    {
     "name": "stdout",
     "output_type": "stream",
     "text": [
      "27.562004671205965\n",
      "808.4138505872069\n",
      "0.0\n"
     ]
    }
   ],
   "source": [
    "origin_path = '/home/dingxi/AIST++/converted'\n",
    "jitter_path = '/home/dingxi/AIST++/02sigma'\n",
    "source = 'aist++'\n",
    "\n",
    "num_node = 25 if source == 'dancerevolution' else 17\n",
    "target_length = 1800 if source == 'dancerevolution' else 2878\n",
    "\n",
    "_min, _max, _mean, count = 2000, 0, 0, 0\n",
    "file_list = os.listdir(origin_path)\n",
    "for file in tqdm(file_list):\n",
    "    origin_dance_path = os.path.join(origin_path, file)\n",
    "    jitter_dance_path = os.path.join(jitter_path, file)\n",
    "    \n",
    "    origin_dance = load_dance(origin_dance_path, source)\n",
    "    jitter_dance = load_dance(jitter_dance_path, source)\n",
    "    \n",
    "    origin_dance = np.array(origin_dance).reshape(-1, num_node ,2)\n",
    "    jitter_dance = np.array(jitter_dance).reshape(-1, num_node, 2)\n",
    "    \n",
    "    for frame in range(0, target_length):\n",
    "        if origin_dance[frame].any():\n",
    "            for joint in range(0, num_node):\n",
    "                distance = get_distance(origin_dance[frame][joint], jitter_dance[frame][joint], source)\n",
    "                _min = min(distance, _min)\n",
    "                _max = max(distance, _max)\n",
    "                _mean += distance\n",
    "                count += 1\n",
    "        else:\n",
    "            break\n",
    "\n",
    "_mean = _mean / count\n",
    "\n",
    "print(_mean)\n",
    "print(_max)\n",
    "print(_min)"
   ]
  },
  {
   "cell_type": "markdown",
   "id": "99f1e219",
   "metadata": {},
   "source": [
    "### Caculate MAE for original and jittered sequences for AIST++ dataset  \n",
    "\n",
    "Steps:\n",
    "1. For each point, calculate the MAE between clean(x,y) and noisy(x,y)\n",
    "2. Repeat this for all points at all frames to get the average"
   ]
  },
  {
   "cell_type": "code",
   "execution_count": 3,
   "id": "285bec88",
   "metadata": {},
   "outputs": [],
   "source": [
    "def calculate_MAE_per_point(origin_path, jitter_path, source):\n",
    "    num_node = 25 if source == 'dancerevolution' else 17\n",
    "    target_length = 1800 if source == 'dancerevolution' else 2878\n",
    "    mean = 0\n",
    "    count = 0\n",
    "    \n",
    "    file_list = os.listdir(origin_path)\n",
    "    for file in tqdm(file_list):\n",
    "        origin_dance_path = os.path.join(origin_path, file)\n",
    "        jitter_dance_path = os.path.join(jitter_path, file)\n",
    "\n",
    "        origin_dance = load_dance(origin_dance_path, source)\n",
    "        jitter_dance = load_dance(jitter_dance_path, source)\n",
    "\n",
    "        origin_dance = origin_dance.reshape(-1, num_node, 2)\n",
    "        jitter_dance = jitter_dance.reshape(-1, num_node, 2)\n",
    "\n",
    "        for frame in range(0, target_length):\n",
    "            if origin_dance[frame].any():\n",
    "                for joint in range(0, num_node):\n",
    "                    x1 = origin_dance[frame][joint]\n",
    "                    x2 = jitter_dance[frame][joint]\n",
    "                    mean += get_mae(x1, x2, source)\n",
    "                    count += 1\n",
    "            else:\n",
    "                break\n",
    "\n",
    "    print(mean/count)"
   ]
  },
  {
   "cell_type": "code",
   "execution_count": 8,
   "id": "926884f3",
   "metadata": {},
   "outputs": [
    {
     "data": {
      "application/vnd.jupyter.widget-view+json": {
       "model_id": "76557f0db3914d0b89ecfcdd1e3c7540",
       "version_major": 2,
       "version_minor": 0
      },
      "text/plain": [
       "  0%|          | 0/1504 [00:00<?, ?it/s]"
      ]
     },
     "metadata": {},
     "output_type": "display_data"
    },
    {
     "name": "stdout",
     "output_type": "stream",
     "text": [
      "7.54476575251309\n"
     ]
    }
   ],
   "source": [
    "origin_path = '/home/dingxi/AIST++/converted'\n",
    "jitter_path = '/home/dingxi/AIST++/03discard_w30_d15/bcurve'\n",
    "calculate_MAE_per_point(origin_path, jitter_path, 'aist++')"
   ]
  },
  {
   "cell_type": "code",
   "execution_count": 5,
   "id": "ec58dbf1",
   "metadata": {
    "scrolled": true
   },
   "outputs": [
    {
     "data": {
      "application/vnd.jupyter.widget-view+json": {
       "model_id": "c13311f3fb694577aeed3c78179885bf",
       "version_major": 2,
       "version_minor": 0
      },
      "text/plain": [
       "  0%|          | 0/1504 [00:00<?, ?it/s]"
      ]
     },
     "metadata": {},
     "output_type": "display_data"
    },
    {
     "name": "stdout",
     "output_type": "stream",
     "text": [
      "1.292664935177449\n"
     ]
    }
   ],
   "source": [
    "origin_path = '/home/dingxi/AIST++/converted'\n",
    "jitter_path = '/home/dingxi/AIST++/04discard/linear'\n",
    "source = 'aist++'\n",
    "mean = 0\n",
    "count = 0\n",
    "\n",
    "file_list = os.listdir(origin_path)\n",
    "for file in tqdm(file_list):\n",
    "    origin_dance_path = os.path.join(origin_path, file)\n",
    "    jitter_dance_path = os.path.join(jitter_path, file)\n",
    "    \n",
    "    origin_dance = load_dance(origin_dance_path, source)\n",
    "    jitter_dance = load_dance(jitter_dance_path, source)\n",
    "    \n",
    "    origin_dance = origin_dance.reshape(-1, 17, 2)\n",
    "    jitter_dance = jitter_dance.reshape(-1, 17, 2)\n",
    "    \n",
    "    for frame in range(0, 2878):\n",
    "        if origin_dance[frame].any():\n",
    "            for joint in range(0, 17):\n",
    "                x1 = origin_dance[frame][joint]\n",
    "                x2 = jitter_dance[frame][joint]\n",
    "                mean += get_mae(x1, x2, source)\n",
    "                count += 1\n",
    "        else:\n",
    "            break\n",
    "\n",
    "print(mean/count)"
   ]
  },
  {
   "cell_type": "code",
   "execution_count": 5,
   "id": "51fe3e65",
   "metadata": {},
   "outputs": [
    {
     "ename": "ValueError",
     "evalue": "could not broadcast input array from shape (2,2701,17,1) into shape (2,2669,17,1)",
     "output_type": "error",
     "traceback": [
      "\u001b[0;31m---------------------------------------------------------------------------\u001b[0m",
      "\u001b[0;31mValueError\u001b[0m                                Traceback (most recent call last)",
      "\u001b[0;32m<ipython-input-5-4bdcfd78dc7a>\u001b[0m in \u001b[0;36m<module>\u001b[0;34m\u001b[0m\n\u001b[1;32m      9\u001b[0m \u001b[0;34m\u001b[0m\u001b[0m\n\u001b[1;32m     10\u001b[0m \u001b[0mfile_list\u001b[0m \u001b[0;34m=\u001b[0m \u001b[0mos\u001b[0m\u001b[0;34m.\u001b[0m\u001b[0mlistdir\u001b[0m\u001b[0;34m(\u001b[0m\u001b[0morigin_path\u001b[0m\u001b[0;34m)\u001b[0m\u001b[0;34m\u001b[0m\u001b[0;34m\u001b[0m\u001b[0m\n\u001b[0;32m---> 11\u001b[0;31m \u001b[0mholder\u001b[0m \u001b[0;34m=\u001b[0m \u001b[0mDanceRevolutionHolder\u001b[0m\u001b[0;34m(\u001b[0m\u001b[0mjitter_path\u001b[0m\u001b[0;34m,\u001b[0m \u001b[0;34m'train'\u001b[0m\u001b[0;34m,\u001b[0m \u001b[0msource\u001b[0m\u001b[0;34m=\u001b[0m\u001b[0;34m'aist++'\u001b[0m\u001b[0;34m,\u001b[0m \u001b[0mfile_list\u001b[0m\u001b[0;34m=\u001b[0m\u001b[0mfile_list\u001b[0m\u001b[0;34m,\u001b[0m \u001b[0mtrain_interval\u001b[0m\u001b[0;34m=\u001b[0m\u001b[0;36m2878\u001b[0m\u001b[0;34m)\u001b[0m\u001b[0;34m\u001b[0m\u001b[0;34m\u001b[0m\u001b[0m\n\u001b[0m\u001b[1;32m     12\u001b[0m \u001b[0mdataset\u001b[0m \u001b[0;34m=\u001b[0m \u001b[0mDanceRevolutionDataset\u001b[0m\u001b[0;34m(\u001b[0m\u001b[0mholder\u001b[0m\u001b[0;34m,\u001b[0m \u001b[0mdata_in\u001b[0m\u001b[0;34m=\u001b[0m\u001b[0;34m'bcurve'\u001b[0m\u001b[0;34m,\u001b[0m \u001b[0mbez_degree\u001b[0m\u001b[0;34m=\u001b[0m\u001b[0;36m15\u001b[0m\u001b[0;34m,\u001b[0m \u001b[0mwindow\u001b[0m\u001b[0;34m=\u001b[0m\u001b[0;36m45\u001b[0m\u001b[0;34m)\u001b[0m\u001b[0;34m\u001b[0m\u001b[0;34m\u001b[0m\u001b[0m\n\u001b[1;32m     13\u001b[0m \u001b[0;34m\u001b[0m\u001b[0m\n",
      "\u001b[0;32m~/DanceAGCN/dataset_holder.py\u001b[0m in \u001b[0;36m__init__\u001b[0;34m(self, data_path, split, source, file_list, train_interval, music_feat_dim)\u001b[0m\n\u001b[1;32m     73\u001b[0m             \u001b[0;31m# assert m.shape[0] == self.seq_length and d.shape[0] == self.seq_length, 'Sequence length mismatch'\u001b[0m\u001b[0;34m\u001b[0m\u001b[0;34m\u001b[0m\u001b[0;34m\u001b[0m\u001b[0m\n\u001b[1;32m     74\u001b[0m             \u001b[0ms\u001b[0m \u001b[0;34m=\u001b[0m \u001b[0mself\u001b[0m\u001b[0;34m.\u001b[0m\u001b[0mparse_dance_sequence\u001b[0m\u001b[0;34m(\u001b[0m\u001b[0md\u001b[0m\u001b[0;34m)\u001b[0m\u001b[0;34m\u001b[0m\u001b[0;34m\u001b[0m\u001b[0m\n\u001b[0;32m---> 75\u001b[0;31m             \u001b[0mself\u001b[0m\u001b[0;34m.\u001b[0m\u001b[0mdance_array\u001b[0m\u001b[0;34m[\u001b[0m\u001b[0mi\u001b[0m\u001b[0;34m]\u001b[0m \u001b[0;34m=\u001b[0m \u001b[0ms\u001b[0m\u001b[0;34m\u001b[0m\u001b[0;34m\u001b[0m\u001b[0m\n\u001b[0m\u001b[1;32m     76\u001b[0m             \u001b[0;31m# self.music_array[i] = m.T\u001b[0m\u001b[0;34m\u001b[0m\u001b[0;34m\u001b[0m\u001b[0;34m\u001b[0m\u001b[0m\n\u001b[1;32m     77\u001b[0m \u001b[0;34m\u001b[0m\u001b[0m\n",
      "\u001b[0;31mValueError\u001b[0m: could not broadcast input array from shape (2,2701,17,1) into shape (2,2669,17,1)"
     ]
    }
   ],
   "source": [
    "from dataset_holder import DanceRevolutionHolder\n",
    "from dataset import DanceRevolutionDataset\n",
    "\n",
    "origin_path = '/home/dingxi/AIST++/converted'\n",
    "jitter_path = '/home/dingxi/AIST++/04discard/bcurve'\n",
    "source = 'aist++'\n",
    "mean = 0\n",
    "count = 0\n",
    "\n",
    "file_list = os.listdir(origin_path)\n",
    "holder = DanceRevolutionHolder(jitter_path, 'train', source='aist++', file_list=file_list, train_interval=2878)\n",
    "dataset = DanceRevolutionDataset(holder, data_in='bcurve', bez_degree=15, window=45)\n",
    "\n",
    "for i in tqdm(range(len(file_list))):\n",
    "    data = dataset[i]\n",
    "    filename = data[-1]['filename']\n",
    "    origin_dance_path = os.path.join(origin_path, filename)\n",
    "    \n",
    "    origin_dance = load_dance(origin_dance_path, source)\n",
    "    origin_dance = origin_dance.reshape(-1, 17, 2)\n",
    "    \n",
    "    jitter_dance = data[0].squeeze().transpose((1, 2, 0))\n",
    "    \n",
    "    for frame in range(0, 2878):\n",
    "        if origin_dance[frame].any():\n",
    "            for joint in range(0, 17):\n",
    "                x1 = origin_dance[frame][joint]\n",
    "                x2 = jitter_dance[frame][joint]\n",
    "                mean += get_mae(x1, x2, source)\n",
    "                count += 1\n",
    "        else:\n",
    "            break\n",
    "print(mean/count)"
   ]
  },
  {
   "cell_type": "markdown",
   "id": "1765648d",
   "metadata": {},
   "source": [
    "### Find the actual length of Bezier curve interpolated dance"
   ]
  },
  {
   "cell_type": "code",
   "execution_count": 8,
   "id": "25db693d",
   "metadata": {},
   "outputs": [
    {
     "name": "stdout",
     "output_type": "stream",
     "text": [
      "443\n",
      "476\n"
     ]
    }
   ],
   "source": [
    "origin_path = '/home/dingxi/AIST++/converted'\n",
    "jitter_path = '/home/dingxi/AIST++/04discard/bcurve'\n",
    "source = 'aist++'\n",
    "mean = 0\n",
    "count = 0\n",
    "\n",
    "file = 'gKR_sBM_c1_d29_mKR5_ch01.pkl'\n",
    "\n",
    "holder = DanceRevolutionHolder(jitter_path, 'train', source='aist++', file_list=[file], train_interval=2878)\n",
    "dataset = DanceRevolutionDataset(holder, data_in='bcurve', bez_degree=15, window=45)\n",
    "\n",
    "origin_dance_path = os.path.join(origin_path, file)\n",
    "    \n",
    "origin_dance = load_dance(origin_dance_path, source)\n",
    "origin_dance = origin_dance.reshape(-1, 17, 2)\n",
    "\n",
    "data = dataset[0]\n",
    "jitter_dance = data[0].squeeze().transpose((1, 2, 0))\n",
    "\n",
    "for frame in range(0, 2878):\n",
    "    if origin_dance[frame].any():\n",
    "        continue\n",
    "    print(frame)\n",
    "    break\n",
    "for frame in range(0, 2878):\n",
    "    if jitter_dance[frame].any():\n",
    "        continue\n",
    "    print(frame)\n",
    "    break"
   ]
  }
 ],
 "metadata": {
  "kernelspec": {
   "display_name": "Python 3",
   "language": "python",
   "name": "python3"
  },
  "language_info": {
   "codemirror_mode": {
    "name": "ipython",
    "version": 3
   },
   "file_extension": ".py",
   "mimetype": "text/x-python",
   "name": "python",
   "nbconvert_exporter": "python",
   "pygments_lexer": "ipython3",
   "version": "3.7.10"
  }
 },
 "nbformat": 4,
 "nbformat_minor": 5
}
