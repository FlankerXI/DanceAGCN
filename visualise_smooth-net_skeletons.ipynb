{
 "cells": [
  {
   "cell_type": "code",
   "execution_count": null,
   "metadata": {},
   "outputs": [],
   "source": [
    "%load_ext autoreload\n",
    "%autoreload 2\n",
    "\n",
    "import numpy as np\n",
    "import os\n",
    "import sys\n",
    "import matplotlib.pyplot as plt\n",
    "import pickle\n",
    "from mpl_toolkits.mplot3d import Axes3D\n",
    "from IPython.display import HTML\n",
    "import matplotlib.animation as animation\n",
    "from moviepy.editor import VideoClip, ImageSequenceClip\n",
    "from moviepy.video.io.bindings import mplfig_to_npimage\n",
    "import torch\n",
    "import sys\n",
    "sys.path.append('../src')\n",
    "sys.path.append('../DanceRevolution')\n",
    "sys.path.append('../DanceRevolution/v2')\n",
    "from director import Director\n",
    "import yaml\n",
    "import skeleton_sequence\n",
    "from skeleton_sequence import SkeletonSequence\n",
    "from utilities import get_best_results_df, extract_sub_dict\n",
    "from tqdm import tqdm"
   ]
  },
  {
   "cell_type": "code",
   "execution_count": null,
   "metadata": {},
   "outputs": [],
   "source": [
    "def compare(s, smooth_net, degree, least_square=None, duration=60, nrows=1, ncols=2, ax_limits=None, add_least_square=False, figsize=None):\n",
    "    assert not (add_least_square and least_square is None)\n",
    "    \n",
    "    to_compare = [least_square, smooth_net] if add_least_square else [smooth_net]\n",
    "    titles = [f'Least-square d={degree}', f'SmoothNet d={degree}'] if add_least_square else [f'SmoothNet d={degree}']\n",
    "    \n",
    "    animation = s.animate_skeleton(xyz=to_compare, body=0, comparison=True, comparison_title=titles, duration=duration, \n",
    "                                   nrows=nrows, ncols=ncols, ax_limits=ax_limits, fps=None, figsize=figsize)\n",
    "    return animation"
   ]
  },
  {
   "cell_type": "code",
   "execution_count": null,
   "metadata": {},
   "outputs": [],
   "source": [
    "def get_output(director, rational=True):\n",
    "    out = []\n",
    "    \n",
    "    with torch.no_grad():\n",
    "        for input_tuple in tqdm(director.test_data_loader, desc='Working'):\n",
    "            input_tensor, labels, metadata = director.tester.split_input_tuple(input_tuple)\n",
    "            input_tensor = director.tester.tensor_to_cuda(input_tensor)\n",
    "            labels = director.tester.tensor_to_cuda(labels)\n",
    "            output, _ = director.tester._get_output(input_tensor, labels, metadata)\n",
    "                                                \n",
    "            cp, raw_, raw, bez = output['cp'], output['raw_'], output['raw'], output['bez']\n",
    "            B, C, T, V, M = raw.shape\n",
    "            w = output['w'] if rational else None\n",
    "            \n",
    "            smoothed_skeleton, cp = director.tester.get_smoothed_skeleton(raw_, cp, w)\n",
    "            smoothed_skeleton = smoothed_skeleton.reshape(B, M, C, T, V).permute(0, 2, 3, 4, 1)\n",
    "            \n",
    "            for i in range(B):\n",
    "                met = extract_sub_dict(metadata, i, keys=('uid', 'label_index', 'label_str', 'index'))\n",
    "                raw_sequence = director.test_dataset.holder.skeletons[met['index']]\n",
    "                least_square_seq = bez[i].cpu().numpy()\n",
    "                smooth_net_seq = smoothed_skeleton[i].cpu().numpy()\n",
    "\n",
    "                out.append({'raw_seq': raw_sequence, 'bez': least_square_seq, 'smooth_net': smooth_net_seq, 'cp': cp[i]})\n",
    "\n",
    "    return out"
   ]
  },
  {
   "cell_type": "code",
   "execution_count": null,
   "metadata": {},
   "outputs": [],
   "source": [
    "p = '/mnt/lustre/dmoltisanti/data/experiments/dance/dance-revolution/smooth-net/reconstruct/raw+bcurve/opt=adam-loss=l1-lr=0.0001-lrs=multistep_lr-bs=64-hidden_layers=[512, 512, 512, 512, 512, 512, 512, 512]-bez_degree=50-sliding_w=60-w_overlap=20'\n",
    "\n",
    "with open(p + '/smooth-net-xview.yaml') as f:\n",
    "    settings = yaml.load(f, Loader=yaml.FullLoader)\n",
    "    director = Director(settings, test_only=True, checkpoint_path=p + '/checkpoints/best_test_min_loss.pt')\n",
    "    out = get_output(director, rational=True)"
   ]
  },
  {
   "cell_type": "code",
   "execution_count": null,
   "metadata": {},
   "outputs": [],
   "source": [
    "d = out[0]\n",
    "print('uid', d['raw_seq'].metadata['uid'])\n",
    "animation = compare(d['raw_seq'], d['smooth_net'], settings['dataset_obj']['bez_degree'], ax_limits=(-1, 1, -1, 1), figsize=(10, 3))\n",
    "animation.ipython_display(loop=True, autoplay=True, maxduration=60, fps=30)"
   ]
  }
 ],
 "metadata": {
  "kernelspec": {
   "display_name": "Python 3",
   "language": "python",
   "name": "python3"
  },
  "language_info": {
   "codemirror_mode": {
    "name": "ipython",
    "version": 3
   },
   "file_extension": ".py",
   "mimetype": "text/x-python",
   "name": "python",
   "nbconvert_exporter": "python",
   "pygments_lexer": "ipython3",
   "version": "3.7.10"
  }
 },
 "nbformat": 4,
 "nbformat_minor": 4
}
