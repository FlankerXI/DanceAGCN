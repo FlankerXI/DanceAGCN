{
 "cells": [
  {
   "cell_type": "code",
   "execution_count": 1,
   "metadata": {},
   "outputs": [],
   "source": [
    "%load_ext autoreload\n",
    "%autoreload 2\n",
    "\n",
    "import numpy as np\n",
    "import os\n",
    "import sys\n",
    "import matplotlib.pyplot as plt\n",
    "import pickle\n",
    "from mpl_toolkits.mplot3d import Axes3D\n",
    "from IPython.display import HTML\n",
    "import matplotlib.animation as animation\n",
    "from moviepy.editor import VideoClip, ImageSequenceClip\n",
    "from moviepy.video.io.bindings import mplfig_to_npimage\n",
    "import torch\n",
    "import sys\n",
    "sys.path.append('../src')\n",
    "sys.path.append('../DanceRevolution')\n",
    "sys.path.append('../DanceRevolution/v2')\n",
    "# from director import Director\n",
    "import yaml\n",
    "import skeleton_sequence\n",
    "from skeleton_sequence import SkeletonSequence\n",
    "# from utilities import get_best_results_df, extract_sub_dict\n",
    "from tqdm import tqdm"
   ]
  },
  {
   "cell_type": "markdown",
   "metadata": {},
   "source": [
    "DX: compare function is used to compare two sequences of skeletons actions, which in my case are sequences interpolated by linear and bezier methods."
   ]
  },
  {
   "cell_type": "code",
   "execution_count": 2,
   "metadata": {},
   "outputs": [],
   "source": [
    "def compare(s, smooth_net, degree, least_square=None, duration=60, nrows=1, ncols=2, ax_limits=None, add_least_square=False, figsize=None):\n",
    "    assert not (add_least_square and least_square is None)\n",
    "    \n",
    "    to_compare = [least_square, smooth_net] if add_least_square else [smooth_net]\n",
    "    titles = [f'Least-square d={degree}', f'SmoothNet d={degree}'] if add_least_square else [f'SmoothNet d={degree}']\n",
    "    \n",
    "    animation = s.animate_skeleton(xyz=to_compare, body=0, comparison=True, comparison_title=titles, duration=duration, \n",
    "                                   nrows=nrows, ncols=ncols, ax_limits=ax_limits, fps=None, figsize=figsize)\n",
    "    return animation"
   ]
  },
  {
   "cell_type": "code",
   "execution_count": null,
   "metadata": {},
   "outputs": [],
   "source": [
    "def get_output(director, rational=True):\n",
    "    out = []\n",
    "    \n",
    "    with torch.no_grad():\n",
    "        for input_tuple in tqdm(director.test_data_loader, desc='Working'):\n",
    "            input_tensor, labels, metadata = director.tester.split_input_tuple(input_tuple)\n",
    "            input_tensor = director.tester.tensor_to_cuda(input_tensor)\n",
    "            labels = director.tester.tensor_to_cuda(labels)\n",
    "            output, _ = director.tester._get_output(input_tensor, labels, metadata)\n",
    "                                                \n",
    "            cp, raw_, raw, bez = output['cp'], output['raw_'], output['raw'], output['bez']\n",
    "            B, C, T, V, M = raw.shape\n",
    "            w = output['w'] if rational else None\n",
    "            \n",
    "            smoothed_skeleton, cp = director.tester.get_smoothed_skeleton(raw_, cp, w)\n",
    "            smoothed_skeleton = smoothed_skeleton.reshape(B, M, C, T, V).permute(0, 2, 3, 4, 1)\n",
    "            \n",
    "            for i in range(B):\n",
    "                met = extract_sub_dict(metadata, i, keys=('uid', 'label_index', 'label_str', 'index'))\n",
    "                raw_sequence = director.test_dataset.holder.skeletons[met['index']]\n",
    "                least_square_seq = bez[i].cpu().numpy()\n",
    "                smooth_net_seq = smoothed_skeleton[i].cpu().numpy()\n",
    "\n",
    "                out.append({'raw_seq': raw_sequence, 'bez': least_square_seq, 'smooth_net': smooth_net_seq, 'cp': cp[i]})\n",
    "\n",
    "    return out"
   ]
  },
  {
   "cell_type": "code",
   "execution_count": 3,
   "metadata": {},
   "outputs": [
    {
     "ename": "FileNotFoundError",
     "evalue": "[Errno 2] No such file or directory: '/mnt/lustre/dmoltisanti/data/experiments/dance/dance-revolution/smooth-net/reconstruct/raw+bcurve/opt=adam-loss=l1-lr=0.0001-lrs=multistep_lr-bs=64-hidden_layers=[512, 512, 512, 512, 512, 512, 512, 512]-bez_degree=50-sliding_w=60-w_overlap=20/smooth-net-xview.yaml'",
     "output_type": "error",
     "traceback": [
      "\u001b[0;31m---------------------------------------------------------------------------\u001b[0m",
      "\u001b[0;31mFileNotFoundError\u001b[0m                         Traceback (most recent call last)",
      "\u001b[0;32m<ipython-input-3-7670aa5af13e>\u001b[0m in \u001b[0;36m<module>\u001b[0;34m\u001b[0m\n\u001b[1;32m      1\u001b[0m \u001b[0mp\u001b[0m \u001b[0;34m=\u001b[0m \u001b[0;34m'/mnt/lustre/dmoltisanti/data/experiments/dance/dance-revolution/smooth-net/reconstruct/raw+bcurve/opt=adam-loss=l1-lr=0.0001-lrs=multistep_lr-bs=64-hidden_layers=[512, 512, 512, 512, 512, 512, 512, 512]-bez_degree=50-sliding_w=60-w_overlap=20'\u001b[0m\u001b[0;34m\u001b[0m\u001b[0;34m\u001b[0m\u001b[0m\n\u001b[1;32m      2\u001b[0m \u001b[0;34m\u001b[0m\u001b[0m\n\u001b[0;32m----> 3\u001b[0;31m \u001b[0;32mwith\u001b[0m \u001b[0mopen\u001b[0m\u001b[0;34m(\u001b[0m\u001b[0mp\u001b[0m \u001b[0;34m+\u001b[0m \u001b[0;34m'/smooth-net-xview.yaml'\u001b[0m\u001b[0;34m)\u001b[0m \u001b[0;32mas\u001b[0m \u001b[0mf\u001b[0m\u001b[0;34m:\u001b[0m\u001b[0;34m\u001b[0m\u001b[0;34m\u001b[0m\u001b[0m\n\u001b[0m\u001b[1;32m      4\u001b[0m     \u001b[0msettings\u001b[0m \u001b[0;34m=\u001b[0m \u001b[0myaml\u001b[0m\u001b[0;34m.\u001b[0m\u001b[0mload\u001b[0m\u001b[0;34m(\u001b[0m\u001b[0mf\u001b[0m\u001b[0;34m,\u001b[0m \u001b[0mLoader\u001b[0m\u001b[0;34m=\u001b[0m\u001b[0myaml\u001b[0m\u001b[0;34m.\u001b[0m\u001b[0mFullLoader\u001b[0m\u001b[0;34m)\u001b[0m\u001b[0;34m\u001b[0m\u001b[0;34m\u001b[0m\u001b[0m\n\u001b[1;32m      5\u001b[0m     \u001b[0mdirector\u001b[0m \u001b[0;34m=\u001b[0m \u001b[0mDirector\u001b[0m\u001b[0;34m(\u001b[0m\u001b[0msettings\u001b[0m\u001b[0;34m,\u001b[0m \u001b[0mtest_only\u001b[0m\u001b[0;34m=\u001b[0m\u001b[0;32mTrue\u001b[0m\u001b[0;34m,\u001b[0m \u001b[0mcheckpoint_path\u001b[0m\u001b[0;34m=\u001b[0m\u001b[0mp\u001b[0m \u001b[0;34m+\u001b[0m \u001b[0;34m'/checkpoints/best_test_min_loss.pt'\u001b[0m\u001b[0;34m)\u001b[0m\u001b[0;34m\u001b[0m\u001b[0;34m\u001b[0m\u001b[0m\n",
      "\u001b[0;31mFileNotFoundError\u001b[0m: [Errno 2] No such file or directory: '/mnt/lustre/dmoltisanti/data/experiments/dance/dance-revolution/smooth-net/reconstruct/raw+bcurve/opt=adam-loss=l1-lr=0.0001-lrs=multistep_lr-bs=64-hidden_layers=[512, 512, 512, 512, 512, 512, 512, 512]-bez_degree=50-sliding_w=60-w_overlap=20/smooth-net-xview.yaml'"
     ]
    }
   ],
   "source": [
    "p = '/mnt/lustre/dmoltisanti/data/experiments/dance/dance-revolution/smooth-net/reconstruct/raw+bcurve/opt=adam-loss=l1-lr=0.0001-lrs=multistep_lr-bs=64-hidden_layers=[512, 512, 512, 512, 512, 512, 512, 512]-bez_degree=50-sliding_w=60-w_overlap=20'\n",
    "\n",
    "with open(p + '/smooth-net-xview.yaml') as f:\n",
    "    settings = yaml.load(f, Loader=yaml.FullLoader)\n",
    "    director = Director(settings, test_only=True, checkpoint_path=p + '/checkpoints/best_test_min_loss.pt')\n",
    "    out = get_output(director, rational=True)"
   ]
  },
  {
   "cell_type": "markdown",
   "metadata": {},
   "source": [
    "So after I get the bezier interpolated curve, I can compare them here."
   ]
  },
  {
   "cell_type": "code",
   "execution_count": null,
   "metadata": {
    "scrolled": true
   },
   "outputs": [],
   "source": [
    "from dataset_holder import DanceRevolutionHolder\n",
    "from dataset import DanceRevolutionDataset\n",
    "holder = DanceRevolutionHolder('/home/dingxi/DanceRevolution/data/train_1min', 'train')\n",
    "dataset = DanceRevolutionDataset(holder, data_in='raw+bcurve')"
   ]
  },
  {
   "cell_type": "code",
   "execution_count": null,
   "metadata": {
    "scrolled": true
   },
   "outputs": [],
   "source": [
    "dataset[1]"
   ]
  },
  {
   "cell_type": "code",
   "execution_count": null,
   "metadata": {},
   "outputs": [],
   "source": [
    "d = out[0]\n",
    "print('uid', d['raw_seq'].metadata['uid'])\n",
    "animation = compare(d['raw_seq'], d['smooth_net'], settings['dataset_obj']['bez_degree'], ax_limits=(-1, 1, -1, 1), figsize=(10, 3))\n",
    "animation.ipython_display(loop=True, autoplay=True, maxduration=60, fps=30)"
   ]
  }
 ],
 "metadata": {
  "interpreter": {
   "hash": "a677636f46f9f2364bf305572ba310ff5594f0204e98ec487d459b83547cc16f"
  },
  "kernelspec": {
   "display_name": "Python 3",
   "language": "python",
   "name": "python3"
  },
  "language_info": {
   "codemirror_mode": {
    "name": "ipython",
    "version": 3
   },
   "file_extension": ".py",
   "mimetype": "text/x-python",
   "name": "python",
   "nbconvert_exporter": "python",
   "pygments_lexer": "ipython3",
   "version": "3.7.10"
  }
 },
 "nbformat": 4,
 "nbformat_minor": 4
}
